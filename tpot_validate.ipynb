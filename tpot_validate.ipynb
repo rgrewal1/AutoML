{
 "metadata": {
  "language_info": {
   "codemirror_mode": {
    "name": "ipython",
    "version": 3
   },
   "file_extension": ".py",
   "mimetype": "text/x-python",
   "name": "python",
   "nbconvert_exporter": "python",
   "pygments_lexer": "ipython3",
   "version": "3.8.5-final"
  },
  "orig_nbformat": 2,
  "kernelspec": {
   "name": "python3",
   "display_name": "Python 3.8.5 64-bit ('base': conda)",
   "metadata": {
    "interpreter": {
     "hash": "2bf8f98cd9347e095df38b8480e7bc42e5fce1dfec3ce86d8029489262e0911d"
    }
   }
  }
 },
 "nbformat": 4,
 "nbformat_minor": 2,
 "cells": [
  {
   "cell_type": "code",
   "execution_count": 1,
   "metadata": {},
   "outputs": [],
   "source": [
    "from tpot import TPOTRegressor\n",
    "from sklearn.metrics import r2_score\n",
    "from Utils.validate_model import ModelValidation\n",
    "from datetime import datetime\n",
    "import pandas as pd\n",
    "import pickle"
   ]
  },
  {
   "cell_type": "code",
   "execution_count": 2,
   "metadata": {},
   "outputs": [],
   "source": [
    "#Loaded model\n",
    "target_zone='zone_18'\n",
    "runtime = 600\n",
    "model = pickle.load(open(f'Frameworks/TPOT/{target_zone}/{target_zone}_{runtime}', 'rb'))"
   ]
  },
  {
   "cell_type": "code",
   "execution_count": 3,
   "metadata": {},
   "outputs": [
    {
     "output_type": "stream",
     "name": "stdout",
     "text": [
      "Pipeline(steps=[('xgbregressor',\n                 XGBRegressor(base_score=0.5, booster='gbtree',\n                              colsample_bylevel=1, colsample_bynode=1,\n                              colsample_bytree=1, gamma=0, gpu_id=-1,\n                              importance_type='gain',\n                              interaction_constraints='', learning_rate=0.1,\n                              max_delta_step=0, max_depth=8,\n                              min_child_weight=17, missing=nan,\n                              monotone_constraints='()', n_estimators=100,\n                              n_jobs=1, num_parallel_tree=1, random_state=42,\n                              reg_alpha=0, reg_lambda=1, scale_pos_weight=1,\n                              subsample=0.2, tree_method='exact',\n                              validate_parameters=1, verbosity=0))])\n"
     ]
    }
   ],
   "source": [
    "print(model)"
   ]
  },
  {
   "cell_type": "code",
   "execution_count": 4,
   "metadata": {},
   "outputs": [
    {
     "output_type": "stream",
     "name": "stdout",
     "text": [
      "174217.515625\n"
     ]
    }
   ],
   "source": [
    "data_comlete = pd.read_csv(f'Dataset/{target_zone}.csv')\n",
    "#gap is the missing values\n",
    "gap = data_comlete.set_index('datetime')['2008-06-30 05:00:00': '2008-06-30 23:00:00']\n",
    "gap.reset_index(drop=True, inplace=True)\n",
    "gap_features = gap.drop('target', axis=1)\n",
    "gap_target = gap['target']\n",
    "pred = gap[target_zone]\n",
    "\n",
    "#run loop to calculate the prediction weeks\n",
    "for x in range(0, len(gap_target)):\n",
    "    #row is the current hour in the loop starting with 2008-07-01 00:00:00\n",
    "    row = gap_features[x:x+1]\n",
    "    #predict the value of hour X\n",
    "    pred[x]=model.predict(row)\n",
    "    #replace the value of target_zone at hour X+1 in the feature dataset\n",
    "    gap_features[target_zone][x+1]=pred[x]\n",
    "\n",
    "last_value=pred[18]\n",
    "print(last_value)"
   ]
  },
  {
   "cell_type": "code",
   "execution_count": 5,
   "metadata": {},
   "outputs": [],
   "source": [
    "#Load prediction weeks for zone 4\n",
    "test = pd.read_csv(f'Dataset/Zones/zone_18test.csv')\n",
    "test = test.drop(['datetime'], axis=1)\n",
    "#remove target from feature list\n",
    "features = test.drop('target', axis=1)\n",
    "#add the last prediction from the missing 19 value as the first target_column value\n",
    "features[target_zone][0]=last_value\n",
    "target = test['target']\n",
    "pred = test[target_zone]"
   ]
  },
  {
   "cell_type": "code",
   "execution_count": 6,
   "metadata": {},
   "outputs": [],
   "source": [
    "#run loop to calculate the prediction weeks\n",
    "for x in range(0, len(target)):\n",
    "    #row is the current hour in the loop starting with 2008-07-01 00:00:00\n",
    "    row = features[x:x+1]\n",
    "    #predict the value of hour X\n",
    "    pred[x]=model.predict(row)\n",
    "    #replace the value of 'zone_4' at hour X+1 in the feature dataset\n",
    "    features[target_zone][x+1]=pred[x]\n",
    "\n",
    "\n"
   ]
  },
  {
   "cell_type": "code",
   "execution_count": 7,
   "metadata": {},
   "outputs": [
    {
     "output_type": "stream",
     "name": "stdout",
     "text": [
      "0      174217.515625\n1      157594.718750\n2      143885.828125\n3      139729.031250\n4      142530.703125\n           ...      \n162    322675.125000\n163    314445.843750\n164    301240.875000\n165    283287.062500\n166    243338.671875\nName: zone_18, Length: 167, dtype: float64\n"
     ]
    }
   ],
   "source": [
    "print(features[target_zone])"
   ]
  },
  {
   "cell_type": "code",
   "execution_count": 8,
   "metadata": {},
   "outputs": [
    {
     "output_type": "stream",
     "name": "stdout",
     "text": [
      "0      157594.718750\n1      143885.828125\n2      139729.031250\n3      142530.703125\n4      156870.281250\n           ...      \n162    314445.843750\n163    301240.875000\n164    283287.062500\n165    243338.671875\n166    208693.187500\nName: zone_18, Length: 167, dtype: float64\n"
     ]
    }
   ],
   "source": [
    "print(pred)"
   ]
  },
  {
   "cell_type": "code",
   "execution_count": 9,
   "metadata": {},
   "outputs": [
    {
     "output_type": "stream",
     "name": "stdout",
     "text": [
      "Metrics for TPOT zone_18_600\nMin Load: 129107.0\nMax Load: 352808.0\nAverage Load: 225798.89221556886\nR2: 0.9477481554051927\nMAE: 11855.25276010479\nMAPE: 0.05430812238042374\nMax Error: 39779.21875\n"
     ]
    }
   ],
   "source": [
    "from sklearn.metrics import mean_absolute_error\n",
    "from sklearn.metrics import mean_absolute_percentage_error\n",
    "from sklearn.metrics import mean_squared_error\n",
    "from sklearn.metrics import max_error\n",
    "\n",
    "print(f'Metrics for TPOT {target_zone}_{runtime}')\n",
    "print('Min Load:', target.min())\n",
    "print('Max Load:', target.max())\n",
    "print('Average Load:', target.mean())\n",
    "print('R2:', r2_score(target, pred))\n",
    "print('MAE:', mean_absolute_error(target, pred))\n",
    "print('MAPE:', mean_absolute_percentage_error(target, pred))\n",
    "print('Max Error:', max_error(target, pred))"
   ]
  },
  {
   "cell_type": "code",
   "execution_count": null,
   "metadata": {},
   "outputs": [],
   "source": []
  }
 ]
}