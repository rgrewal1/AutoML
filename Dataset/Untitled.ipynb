{
 "cells": [
  {
   "cell_type": "code",
   "execution_count": 1,
   "metadata": {},
   "outputs": [
    {
     "name": "stderr",
     "output_type": "stream",
     "text": [
      "Warning message:\n",
      "\"package 'tidyr' was built under R version 3.6.3\"Warning message:\n",
      "\"package 'dplyr' was built under R version 3.6.3\"\n",
      "Attaching package: 'dplyr'\n",
      "\n",
      "The following objects are masked from 'package:stats':\n",
      "\n",
      "    filter, lag\n",
      "\n",
      "The following objects are masked from 'package:base':\n",
      "\n",
      "    intersect, setdiff, setequal, union\n",
      "\n",
      "Warning message:\n",
      "\"package 'lubridate' was built under R version 3.6.3\"\n",
      "Attaching package: 'lubridate'\n",
      "\n",
      "The following objects are masked from 'package:base':\n",
      "\n",
      "    date, intersect, setdiff, union\n",
      "\n"
     ]
    }
   ],
   "source": [
    "library(tidyr)\n",
    "library(dplyr)\n",
    "library(lubridate)\n",
    "\n",
    "load = \"Load_history.csv\"\n",
    "temp = \"temperature_history.csv\" \n",
    "solution = \"Load_solution.csv\"\n",
    "\n",
    "setClass(\"num.with.commas\")\n",
    "setAs(\"character\", \"num.with.commas\", function(from) as.numeric(gsub(\",\", \"\", from) ) )\n",
    "\n",
    "loadRawClasses = c('factor', rep(\"numeric\", 3), rep(\"num.with.commas\", 24))\n",
    "\n",
    "df = read.csv(load, stringsAsFactors=FALSE, colClasses=loadRawClasses)"
   ]
  },
  {
   "cell_type": "code",
   "execution_count": 2,
   "metadata": {},
   "outputs": [
    {
     "data": {
      "text/html": [
       "<table>\n",
       "<thead><tr><th scope=col>zone_id</th><th scope=col>year</th><th scope=col>month</th><th scope=col>day</th><th scope=col>h1</th><th scope=col>h2</th><th scope=col>h3</th><th scope=col>h4</th><th scope=col>h5</th><th scope=col>h6</th><th scope=col>...</th><th scope=col>h15</th><th scope=col>h16</th><th scope=col>h17</th><th scope=col>h18</th><th scope=col>h19</th><th scope=col>h20</th><th scope=col>h21</th><th scope=col>h22</th><th scope=col>h23</th><th scope=col>h24</th></tr></thead>\n",
       "<tbody>\n",
       "\t<tr><td>1    </td><td>2004 </td><td>1    </td><td>1    </td><td>16853</td><td>16450</td><td>16517</td><td>16873</td><td>17064</td><td>17727</td><td>...  </td><td>13518</td><td>13138</td><td>14130</td><td>16809</td><td>18150</td><td>18235</td><td>17925</td><td>16904</td><td>16162</td><td>14750</td></tr>\n",
       "\t<tr><td>1    </td><td>2004 </td><td>1    </td><td>2    </td><td>14155</td><td>14038</td><td>14019</td><td>14489</td><td>14920</td><td>16072</td><td>...  </td><td>16127</td><td>15448</td><td>15839</td><td>17727</td><td>18895</td><td>18650</td><td>18443</td><td>17580</td><td>16467</td><td>15258</td></tr>\n",
       "\t<tr><td>1    </td><td>2004 </td><td>1    </td><td>3    </td><td>14439</td><td>14272</td><td>14109</td><td>14081</td><td>14775</td><td>15491</td><td>...  </td><td>13507</td><td>13414</td><td>13826</td><td>15825</td><td>16996</td><td>16394</td><td>15406</td><td>14278</td><td>13315</td><td>12424</td></tr>\n",
       "\t<tr><td>1    </td><td>2004 </td><td>1    </td><td>4    </td><td>11273</td><td>10415</td><td> 9943</td><td> 9859</td><td> 9881</td><td>10248</td><td>...  </td><td>14207</td><td>13614</td><td>14162</td><td>16237</td><td>17430</td><td>17218</td><td>16633</td><td>15238</td><td>13580</td><td>11727</td></tr>\n",
       "\t<tr><td>1    </td><td>2004 </td><td>1    </td><td>5    </td><td>10750</td><td>10321</td><td>10107</td><td>10065</td><td>10419</td><td>12101</td><td>...  </td><td>13845</td><td>14350</td><td>15501</td><td>17307</td><td>18786</td><td>19089</td><td>19192</td><td>18416</td><td>17006</td><td>16018</td></tr>\n",
       "\t<tr><td>1    </td><td>2004 </td><td>1    </td><td>6    </td><td>15742</td><td>15682</td><td>16132</td><td>16761</td><td>17909</td><td>20234</td><td>...  </td><td>18762</td><td>19162</td><td>21509</td><td>25314</td><td>28060</td><td>28768</td><td>28919</td><td>28653</td><td>27406</td><td>26507</td></tr>\n",
       "</tbody>\n",
       "</table>\n"
      ],
      "text/latex": [
       "\\begin{tabular}{r|llllllllllllllllllllllllllll}\n",
       " zone\\_id & year & month & day & h1 & h2 & h3 & h4 & h5 & h6 & ... & h15 & h16 & h17 & h18 & h19 & h20 & h21 & h22 & h23 & h24\\\\\n",
       "\\hline\n",
       "\t 1     & 2004  & 1     & 1     & 16853 & 16450 & 16517 & 16873 & 17064 & 17727 & ...   & 13518 & 13138 & 14130 & 16809 & 18150 & 18235 & 17925 & 16904 & 16162 & 14750\\\\\n",
       "\t 1     & 2004  & 1     & 2     & 14155 & 14038 & 14019 & 14489 & 14920 & 16072 & ...   & 16127 & 15448 & 15839 & 17727 & 18895 & 18650 & 18443 & 17580 & 16467 & 15258\\\\\n",
       "\t 1     & 2004  & 1     & 3     & 14439 & 14272 & 14109 & 14081 & 14775 & 15491 & ...   & 13507 & 13414 & 13826 & 15825 & 16996 & 16394 & 15406 & 14278 & 13315 & 12424\\\\\n",
       "\t 1     & 2004  & 1     & 4     & 11273 & 10415 &  9943 &  9859 &  9881 & 10248 & ...   & 14207 & 13614 & 14162 & 16237 & 17430 & 17218 & 16633 & 15238 & 13580 & 11727\\\\\n",
       "\t 1     & 2004  & 1     & 5     & 10750 & 10321 & 10107 & 10065 & 10419 & 12101 & ...   & 13845 & 14350 & 15501 & 17307 & 18786 & 19089 & 19192 & 18416 & 17006 & 16018\\\\\n",
       "\t 1     & 2004  & 1     & 6     & 15742 & 15682 & 16132 & 16761 & 17909 & 20234 & ...   & 18762 & 19162 & 21509 & 25314 & 28060 & 28768 & 28919 & 28653 & 27406 & 26507\\\\\n",
       "\\end{tabular}\n"
      ],
      "text/markdown": [
       "\n",
       "| zone_id | year | month | day | h1 | h2 | h3 | h4 | h5 | h6 | ... | h15 | h16 | h17 | h18 | h19 | h20 | h21 | h22 | h23 | h24 |\n",
       "|---|---|---|---|---|---|---|---|---|---|---|---|---|---|---|---|---|---|---|---|---|\n",
       "| 1     | 2004  | 1     | 1     | 16853 | 16450 | 16517 | 16873 | 17064 | 17727 | ...   | 13518 | 13138 | 14130 | 16809 | 18150 | 18235 | 17925 | 16904 | 16162 | 14750 |\n",
       "| 1     | 2004  | 1     | 2     | 14155 | 14038 | 14019 | 14489 | 14920 | 16072 | ...   | 16127 | 15448 | 15839 | 17727 | 18895 | 18650 | 18443 | 17580 | 16467 | 15258 |\n",
       "| 1     | 2004  | 1     | 3     | 14439 | 14272 | 14109 | 14081 | 14775 | 15491 | ...   | 13507 | 13414 | 13826 | 15825 | 16996 | 16394 | 15406 | 14278 | 13315 | 12424 |\n",
       "| 1     | 2004  | 1     | 4     | 11273 | 10415 |  9943 |  9859 |  9881 | 10248 | ...   | 14207 | 13614 | 14162 | 16237 | 17430 | 17218 | 16633 | 15238 | 13580 | 11727 |\n",
       "| 1     | 2004  | 1     | 5     | 10750 | 10321 | 10107 | 10065 | 10419 | 12101 | ...   | 13845 | 14350 | 15501 | 17307 | 18786 | 19089 | 19192 | 18416 | 17006 | 16018 |\n",
       "| 1     | 2004  | 1     | 6     | 15742 | 15682 | 16132 | 16761 | 17909 | 20234 | ...   | 18762 | 19162 | 21509 | 25314 | 28060 | 28768 | 28919 | 28653 | 27406 | 26507 |\n",
       "\n"
      ],
      "text/plain": [
       "  zone_id year month day h1    h2    h3    h4    h5    h6    ... h15   h16  \n",
       "1 1       2004 1     1   16853 16450 16517 16873 17064 17727 ... 13518 13138\n",
       "2 1       2004 1     2   14155 14038 14019 14489 14920 16072 ... 16127 15448\n",
       "3 1       2004 1     3   14439 14272 14109 14081 14775 15491 ... 13507 13414\n",
       "4 1       2004 1     4   11273 10415  9943  9859  9881 10248 ... 14207 13614\n",
       "5 1       2004 1     5   10750 10321 10107 10065 10419 12101 ... 13845 14350\n",
       "6 1       2004 1     6   15742 15682 16132 16761 17909 20234 ... 18762 19162\n",
       "  h17   h18   h19   h20   h21   h22   h23   h24  \n",
       "1 14130 16809 18150 18235 17925 16904 16162 14750\n",
       "2 15839 17727 18895 18650 18443 17580 16467 15258\n",
       "3 13826 15825 16996 16394 15406 14278 13315 12424\n",
       "4 14162 16237 17430 17218 16633 15238 13580 11727\n",
       "5 15501 17307 18786 19089 19192 18416 17006 16018\n",
       "6 21509 25314 28060 28768 28919 28653 27406 26507"
      ]
     },
     "metadata": {},
     "output_type": "display_data"
    }
   ],
   "source": [
    "head(df)"
   ]
  },
  {
   "cell_type": "code",
   "execution_count": 25,
   "metadata": {},
   "outputs": [],
   "source": [
    "tidyLoadDf = df %>%  gather(Hour, Consumption, h1:h24) %>%\n",
    "                 mutate(Hour=as.numeric(substr(Hour, 2, nchar(Hour)))-1) %>%\n",
    "                 unite(Date, year, month, day, sep='-') %>%\n",
    "                 unite(DateTime, Date, Hour, sep=' ') %>%\n",
    "                 mutate(DateTime=as.POSIXct(strptime(DateTime, \"%Y-%m-%d %H\", tz = \"GMT\"))) %>%\n",
    "                 arrange(DateTime, zone_id)"
   ]
  },
  {
   "cell_type": "code",
   "execution_count": 26,
   "metadata": {},
   "outputs": [],
   "source": [
    "#Spead consumption for each zone into seperate columns, so that we can easily select consumption for each zone later\n",
    "tidyLoadDf = tidyLoadDf %>% mutate(zone_id=paste0('zone.',as.character(zone_id))) %>%\n",
    "                      spread(zone_id, Consumption, fill = NA, convert = FALSE)\n",
    "#Remove 2008/June data, because it's not complete, Create Zone 21 as sum of 20 zones consumption\n",
    "tidyLoadDf = tidyLoadDf %>% filter(DateTime<as.POSIXct(strptime(\"2008-07-08 00:00:00\", \"%Y-%m-%d %H:%M:%S\")))\n",
    "#Add total consumption to zone.21\n",
    "tidyLoadDf %>% select(zone.1:zone.20) %>% rowSums(na.rm=TRUE) -> tidyLoadDf$zone.21"
   ]
  },
  {
   "cell_type": "code",
   "execution_count": 27,
   "metadata": {},
   "outputs": [
    {
     "data": {
      "text/html": [
       "<table>\n",
       "<thead><tr><th></th><th scope=col>DateTime</th><th scope=col>zone.1</th><th scope=col>zone.10</th><th scope=col>zone.11</th><th scope=col>zone.12</th><th scope=col>zone.13</th><th scope=col>zone.14</th><th scope=col>zone.15</th><th scope=col>zone.16</th><th scope=col>zone.17</th><th scope=col>...</th><th scope=col>zone.2</th><th scope=col>zone.20</th><th scope=col>zone.21</th><th scope=col>zone.3</th><th scope=col>zone.4</th><th scope=col>zone.5</th><th scope=col>zone.6</th><th scope=col>zone.7</th><th scope=col>zone.8</th><th scope=col>zone.9</th></tr></thead>\n",
       "<tbody>\n",
       "\t<tr><th scope=row>1505</th><td>2008-07-07 16:00:00</td><td>26418              </td><td>125860             </td><td>196311             </td><td>257577             </td><td>20936              </td><td>31836              </td><td>84629              </td><td>42909              </td><td>45822              </td><td>...                </td><td>244890             </td><td>112540             </td><td>1602382            </td><td>264237             </td><td>488                </td><td>11612              </td><td>256503             </td><td>264237             </td><td>4049               </td><td>20790              </td></tr>\n",
       "\t<tr><th scope=row>1506</th><td>2008-07-07 17:00:00</td><td>24067              </td><td>125924             </td><td>199347             </td><td>264307             </td><td>20491              </td><td>33418              </td><td>81089              </td><td>44543              </td><td>47149              </td><td>...                </td><td>233427             </td><td>110340             </td><td>1611099            </td><td>251868             </td><td>526                </td><td>11679              </td><td>245106             </td><td>251868             </td><td>4180               </td><td>22113              </td></tr>\n",
       "\t<tr><th scope=row>1507</th><td>2008-07-07 18:00:00</td><td>24199              </td><td>124208             </td><td>196250             </td><td>261670             </td><td>23412              </td><td>37700              </td><td>89591              </td><td>48807              </td><td>49613              </td><td>...                </td><td>219468             </td><td>115551             </td><td>1645633            </td><td>236807             </td><td>548                </td><td>10641              </td><td>230109             </td><td>236807             </td><td>4228               </td><td>63084              </td></tr>\n",
       "\t<tr><th scope=row>1508</th><td>2008-07-07 19:00:00</td><td>23831              </td><td>119105             </td><td>185775             </td><td>246165             </td><td>22815              </td><td>36232              </td><td>84512              </td><td>46373              </td><td>47985              </td><td>...                </td><td>210476             </td><td>111560             </td><td>1567266            </td><td>227104             </td><td>553                </td><td> 9960              </td><td>220436             </td><td>227104             </td><td>4239               </td><td>75369              </td></tr>\n",
       "\t<tr><th scope=row>1509</th><td>2008-07-07 20:00:00</td><td>23122              </td><td>113794             </td><td>174968             </td><td>228722             </td><td>22420              </td><td>34607              </td><td>79897              </td><td>43641              </td><td>47215              </td><td>...                </td><td>201663             </td><td>108309             </td><td>1479708            </td><td>217594             </td><td>539                </td><td> 9341              </td><td>211004             </td><td>217594             </td><td>4287               </td><td>75600              </td></tr>\n",
       "\t<tr><th scope=row>1510</th><td>2008-07-07 21:00:00</td><td>22305              </td><td>110332             </td><td>167040             </td><td>220612             </td><td>21852              </td><td>32921              </td><td>78252              </td><td>41535              </td><td>45423              </td><td>...                </td><td>196691             </td><td>106030             </td><td>1418537            </td><td>212229             </td><td>546                </td><td> 8880              </td><td>205570             </td><td>212229             </td><td>4256               </td><td>76356              </td></tr>\n",
       "</tbody>\n",
       "</table>\n"
      ],
      "text/latex": [
       "\\begin{tabular}{r|llllllllllllllllllllll}\n",
       "  & DateTime & zone.1 & zone.10 & zone.11 & zone.12 & zone.13 & zone.14 & zone.15 & zone.16 & zone.17 & ... & zone.2 & zone.20 & zone.21 & zone.3 & zone.4 & zone.5 & zone.6 & zone.7 & zone.8 & zone.9\\\\\n",
       "\\hline\n",
       "\t1505 & 2008-07-07 16:00:00 & 26418               & 125860              & 196311              & 257577              & 20936               & 31836               & 84629               & 42909               & 45822               & ...                 & 244890              & 112540              & 1602382             & 264237              & 488                 & 11612               & 256503              & 264237              & 4049                & 20790              \\\\\n",
       "\t1506 & 2008-07-07 17:00:00 & 24067               & 125924              & 199347              & 264307              & 20491               & 33418               & 81089               & 44543               & 47149               & ...                 & 233427              & 110340              & 1611099             & 251868              & 526                 & 11679               & 245106              & 251868              & 4180                & 22113              \\\\\n",
       "\t1507 & 2008-07-07 18:00:00 & 24199               & 124208              & 196250              & 261670              & 23412               & 37700               & 89591               & 48807               & 49613               & ...                 & 219468              & 115551              & 1645633             & 236807              & 548                 & 10641               & 230109              & 236807              & 4228                & 63084              \\\\\n",
       "\t1508 & 2008-07-07 19:00:00 & 23831               & 119105              & 185775              & 246165              & 22815               & 36232               & 84512               & 46373               & 47985               & ...                 & 210476              & 111560              & 1567266             & 227104              & 553                 &  9960               & 220436              & 227104              & 4239                & 75369              \\\\\n",
       "\t1509 & 2008-07-07 20:00:00 & 23122               & 113794              & 174968              & 228722              & 22420               & 34607               & 79897               & 43641               & 47215               & ...                 & 201663              & 108309              & 1479708             & 217594              & 539                 &  9341               & 211004              & 217594              & 4287                & 75600              \\\\\n",
       "\t1510 & 2008-07-07 21:00:00 & 22305               & 110332              & 167040              & 220612              & 21852               & 32921               & 78252               & 41535               & 45423               & ...                 & 196691              & 106030              & 1418537             & 212229              & 546                 &  8880               & 205570              & 212229              & 4256                & 76356              \\\\\n",
       "\\end{tabular}\n"
      ],
      "text/markdown": [
       "\n",
       "| <!--/--> | DateTime | zone.1 | zone.10 | zone.11 | zone.12 | zone.13 | zone.14 | zone.15 | zone.16 | zone.17 | ... | zone.2 | zone.20 | zone.21 | zone.3 | zone.4 | zone.5 | zone.6 | zone.7 | zone.8 | zone.9 |\n",
       "|---|---|---|---|---|---|---|---|---|---|---|---|---|---|---|---|---|---|---|---|---|---|\n",
       "| 1505 | 2008-07-07 16:00:00 | 26418               | 125860              | 196311              | 257577              | 20936               | 31836               | 84629               | 42909               | 45822               | ...                 | 244890              | 112540              | 1602382             | 264237              | 488                 | 11612               | 256503              | 264237              | 4049                | 20790               |\n",
       "| 1506 | 2008-07-07 17:00:00 | 24067               | 125924              | 199347              | 264307              | 20491               | 33418               | 81089               | 44543               | 47149               | ...                 | 233427              | 110340              | 1611099             | 251868              | 526                 | 11679               | 245106              | 251868              | 4180                | 22113               |\n",
       "| 1507 | 2008-07-07 18:00:00 | 24199               | 124208              | 196250              | 261670              | 23412               | 37700               | 89591               | 48807               | 49613               | ...                 | 219468              | 115551              | 1645633             | 236807              | 548                 | 10641               | 230109              | 236807              | 4228                | 63084               |\n",
       "| 1508 | 2008-07-07 19:00:00 | 23831               | 119105              | 185775              | 246165              | 22815               | 36232               | 84512               | 46373               | 47985               | ...                 | 210476              | 111560              | 1567266             | 227104              | 553                 |  9960               | 220436              | 227104              | 4239                | 75369               |\n",
       "| 1509 | 2008-07-07 20:00:00 | 23122               | 113794              | 174968              | 228722              | 22420               | 34607               | 79897               | 43641               | 47215               | ...                 | 201663              | 108309              | 1479708             | 217594              | 539                 |  9341               | 211004              | 217594              | 4287                | 75600               |\n",
       "| 1510 | 2008-07-07 21:00:00 | 22305               | 110332              | 167040              | 220612              | 21852               | 32921               | 78252               | 41535               | 45423               | ...                 | 196691              | 106030              | 1418537             | 212229              | 546                 |  8880               | 205570              | 212229              | 4256                | 76356               |\n",
       "\n"
      ],
      "text/plain": [
       "     DateTime            zone.1 zone.10 zone.11 zone.12 zone.13 zone.14 zone.15\n",
       "1505 2008-07-07 16:00:00 26418  125860  196311  257577  20936   31836   84629  \n",
       "1506 2008-07-07 17:00:00 24067  125924  199347  264307  20491   33418   81089  \n",
       "1507 2008-07-07 18:00:00 24199  124208  196250  261670  23412   37700   89591  \n",
       "1508 2008-07-07 19:00:00 23831  119105  185775  246165  22815   36232   84512  \n",
       "1509 2008-07-07 20:00:00 23122  113794  174968  228722  22420   34607   79897  \n",
       "1510 2008-07-07 21:00:00 22305  110332  167040  220612  21852   32921   78252  \n",
       "     zone.16 zone.17 ... zone.2 zone.20 zone.21 zone.3 zone.4 zone.5 zone.6\n",
       "1505 42909   45822   ... 244890 112540  1602382 264237 488    11612  256503\n",
       "1506 44543   47149   ... 233427 110340  1611099 251868 526    11679  245106\n",
       "1507 48807   49613   ... 219468 115551  1645633 236807 548    10641  230109\n",
       "1508 46373   47985   ... 210476 111560  1567266 227104 553     9960  220436\n",
       "1509 43641   47215   ... 201663 108309  1479708 217594 539     9341  211004\n",
       "1510 41535   45423   ... 196691 106030  1418537 212229 546     8880  205570\n",
       "     zone.7 zone.8 zone.9\n",
       "1505 264237 4049   20790 \n",
       "1506 251868 4180   22113 \n",
       "1507 236807 4228   63084 \n",
       "1508 227104 4239   75369 \n",
       "1509 217594 4287   75600 \n",
       "1510 212229 4256   76356 "
      ]
     },
     "metadata": {},
     "output_type": "display_data"
    }
   ],
   "source": [
    "tail(tidyLoadDf)"
   ]
  },
  {
   "cell_type": "code",
   "execution_count": 28,
   "metadata": {},
   "outputs": [],
   "source": [
    "ensembleClasses = c('NULL', 'factor', rep(\"numeric\", 27))\n",
    "df = read.csv(solution, stringsAsFactors=FALSE, colClasses=ensembleClasses)\n",
    "tidyEnsembleDf = df %>%  gather(Hour, Consumption, h1:h24) %>%\n",
    "                 mutate(Hour=as.numeric(substr(Hour, 2, nchar(Hour)))-1) %>%\n",
    "                 unite(Date, year, month, day, sep='-') %>%\n",
    "                 unite(DateTime, Date, Hour, sep=' ') %>%\n",
    "                 mutate(DateTime=as.POSIXct(strptime(DateTime, \"%Y-%m-%d %H\", tz = \"GMT\"))) %>%\n",
    "                 arrange(DateTime) %>%\n",
    "                 mutate(zone_id=paste0('zone.',as.character(zone_id))) %>%\n",
    "                 spread(zone_id, Consumption, fill = NA, convert = FALSE) %>% #Remove forecast, only need backcast\n",
    "                 filter(DateTime<as.POSIXct(strptime(\"2008-07-08 00:00:00\", \"%Y-%m-%d %H:%M:%S\")))"
   ]
  },
  {
   "cell_type": "code",
   "execution_count": 29,
   "metadata": {},
   "outputs": [
    {
     "data": {
      "text/html": [
       "<table>\n",
       "<thead><tr><th></th><th scope=col>DateTime</th><th scope=col>zone.1</th><th scope=col>zone.10</th><th scope=col>zone.11</th><th scope=col>zone.12</th><th scope=col>zone.13</th><th scope=col>zone.14</th><th scope=col>zone.15</th><th scope=col>zone.16</th><th scope=col>zone.17</th><th scope=col>...</th><th scope=col>zone.2</th><th scope=col>zone.20</th><th scope=col>zone.21</th><th scope=col>zone.3</th><th scope=col>zone.4</th><th scope=col>zone.5</th><th scope=col>zone.6</th><th scope=col>zone.7</th><th scope=col>zone.8</th><th scope=col>zone.9</th></tr></thead>\n",
       "<tbody>\n",
       "\t<tr><th scope=row>1505</th><td>2008-07-07 16:00:00</td><td>26418              </td><td>125860             </td><td>196311             </td><td>257577             </td><td>20936              </td><td>31836              </td><td>84629              </td><td>42909              </td><td>45822              </td><td>...                </td><td>244890             </td><td>112540             </td><td>2424298            </td><td>264237             </td><td>488                </td><td>11612              </td><td>256503             </td><td>264237             </td><td>4049               </td><td>20790              </td></tr>\n",
       "\t<tr><th scope=row>1506</th><td>2008-07-07 17:00:00</td><td>24067              </td><td>125924             </td><td>199347             </td><td>264307             </td><td>20491              </td><td>33418              </td><td>81089              </td><td>44543              </td><td>47149              </td><td>...                </td><td>233427             </td><td>110340             </td><td>2398439            </td><td>251868             </td><td>526                </td><td>11679              </td><td>245106             </td><td>251868             </td><td>4180               </td><td>22113              </td></tr>\n",
       "\t<tr><th scope=row>1507</th><td>2008-07-07 18:00:00</td><td>24199              </td><td>124208             </td><td>196250             </td><td>261670             </td><td>23412              </td><td>37700              </td><td>89591              </td><td>48807              </td><td>49613              </td><td>...                </td><td>219468             </td><td>115551             </td><td>2427857            </td><td>236807             </td><td>548                </td><td>10641              </td><td>230109             </td><td>236807             </td><td>4228               </td><td>63084              </td></tr>\n",
       "\t<tr><th scope=row>1508</th><td>2008-07-07 19:00:00</td><td>23831              </td><td>119105             </td><td>185775             </td><td>246165             </td><td>22815              </td><td>36232              </td><td>84512              </td><td>46373              </td><td>47985              </td><td>...                </td><td>210476             </td><td>111560             </td><td>2332031            </td><td>227104             </td><td>553                </td><td> 9960              </td><td>220436             </td><td>227104             </td><td>4239               </td><td>75369              </td></tr>\n",
       "\t<tr><th scope=row>1509</th><td>2008-07-07 20:00:00</td><td>23122              </td><td>113794             </td><td>174968             </td><td>228722             </td><td>22420              </td><td>34607              </td><td>79897              </td><td>43641              </td><td>47215              </td><td>...                </td><td>201663             </td><td>108309             </td><td>2215667            </td><td>217594             </td><td>539                </td><td> 9341              </td><td>211004             </td><td>217594             </td><td>4287               </td><td>75600              </td></tr>\n",
       "\t<tr><th scope=row>1510</th><td>2008-07-07 21:00:00</td><td>22305              </td><td>110332             </td><td>167040             </td><td>220612             </td><td>21852              </td><td>32921              </td><td>78252              </td><td>41535              </td><td>45423              </td><td>...                </td><td>196691             </td><td>106030             </td><td>2138603            </td><td>212229             </td><td>546                </td><td> 8880              </td><td>205570             </td><td>212229             </td><td>4256               </td><td>76356              </td></tr>\n",
       "</tbody>\n",
       "</table>\n"
      ],
      "text/latex": [
       "\\begin{tabular}{r|llllllllllllllllllllll}\n",
       "  & DateTime & zone.1 & zone.10 & zone.11 & zone.12 & zone.13 & zone.14 & zone.15 & zone.16 & zone.17 & ... & zone.2 & zone.20 & zone.21 & zone.3 & zone.4 & zone.5 & zone.6 & zone.7 & zone.8 & zone.9\\\\\n",
       "\\hline\n",
       "\t1505 & 2008-07-07 16:00:00 & 26418               & 125860              & 196311              & 257577              & 20936               & 31836               & 84629               & 42909               & 45822               & ...                 & 244890              & 112540              & 2424298             & 264237              & 488                 & 11612               & 256503              & 264237              & 4049                & 20790              \\\\\n",
       "\t1506 & 2008-07-07 17:00:00 & 24067               & 125924              & 199347              & 264307              & 20491               & 33418               & 81089               & 44543               & 47149               & ...                 & 233427              & 110340              & 2398439             & 251868              & 526                 & 11679               & 245106              & 251868              & 4180                & 22113              \\\\\n",
       "\t1507 & 2008-07-07 18:00:00 & 24199               & 124208              & 196250              & 261670              & 23412               & 37700               & 89591               & 48807               & 49613               & ...                 & 219468              & 115551              & 2427857             & 236807              & 548                 & 10641               & 230109              & 236807              & 4228                & 63084              \\\\\n",
       "\t1508 & 2008-07-07 19:00:00 & 23831               & 119105              & 185775              & 246165              & 22815               & 36232               & 84512               & 46373               & 47985               & ...                 & 210476              & 111560              & 2332031             & 227104              & 553                 &  9960               & 220436              & 227104              & 4239                & 75369              \\\\\n",
       "\t1509 & 2008-07-07 20:00:00 & 23122               & 113794              & 174968              & 228722              & 22420               & 34607               & 79897               & 43641               & 47215               & ...                 & 201663              & 108309              & 2215667             & 217594              & 539                 &  9341               & 211004              & 217594              & 4287                & 75600              \\\\\n",
       "\t1510 & 2008-07-07 21:00:00 & 22305               & 110332              & 167040              & 220612              & 21852               & 32921               & 78252               & 41535               & 45423               & ...                 & 196691              & 106030              & 2138603             & 212229              & 546                 &  8880               & 205570              & 212229              & 4256                & 76356              \\\\\n",
       "\\end{tabular}\n"
      ],
      "text/markdown": [
       "\n",
       "| <!--/--> | DateTime | zone.1 | zone.10 | zone.11 | zone.12 | zone.13 | zone.14 | zone.15 | zone.16 | zone.17 | ... | zone.2 | zone.20 | zone.21 | zone.3 | zone.4 | zone.5 | zone.6 | zone.7 | zone.8 | zone.9 |\n",
       "|---|---|---|---|---|---|---|---|---|---|---|---|---|---|---|---|---|---|---|---|---|---|\n",
       "| 1505 | 2008-07-07 16:00:00 | 26418               | 125860              | 196311              | 257577              | 20936               | 31836               | 84629               | 42909               | 45822               | ...                 | 244890              | 112540              | 2424298             | 264237              | 488                 | 11612               | 256503              | 264237              | 4049                | 20790               |\n",
       "| 1506 | 2008-07-07 17:00:00 | 24067               | 125924              | 199347              | 264307              | 20491               | 33418               | 81089               | 44543               | 47149               | ...                 | 233427              | 110340              | 2398439             | 251868              | 526                 | 11679               | 245106              | 251868              | 4180                | 22113               |\n",
       "| 1507 | 2008-07-07 18:00:00 | 24199               | 124208              | 196250              | 261670              | 23412               | 37700               | 89591               | 48807               | 49613               | ...                 | 219468              | 115551              | 2427857             | 236807              | 548                 | 10641               | 230109              | 236807              | 4228                | 63084               |\n",
       "| 1508 | 2008-07-07 19:00:00 | 23831               | 119105              | 185775              | 246165              | 22815               | 36232               | 84512               | 46373               | 47985               | ...                 | 210476              | 111560              | 2332031             | 227104              | 553                 |  9960               | 220436              | 227104              | 4239                | 75369               |\n",
       "| 1509 | 2008-07-07 20:00:00 | 23122               | 113794              | 174968              | 228722              | 22420               | 34607               | 79897               | 43641               | 47215               | ...                 | 201663              | 108309              | 2215667             | 217594              | 539                 |  9341               | 211004              | 217594              | 4287                | 75600               |\n",
       "| 1510 | 2008-07-07 21:00:00 | 22305               | 110332              | 167040              | 220612              | 21852               | 32921               | 78252               | 41535               | 45423               | ...                 | 196691              | 106030              | 2138603             | 212229              | 546                 |  8880               | 205570              | 212229              | 4256                | 76356               |\n",
       "\n"
      ],
      "text/plain": [
       "     DateTime            zone.1 zone.10 zone.11 zone.12 zone.13 zone.14 zone.15\n",
       "1505 2008-07-07 16:00:00 26418  125860  196311  257577  20936   31836   84629  \n",
       "1506 2008-07-07 17:00:00 24067  125924  199347  264307  20491   33418   81089  \n",
       "1507 2008-07-07 18:00:00 24199  124208  196250  261670  23412   37700   89591  \n",
       "1508 2008-07-07 19:00:00 23831  119105  185775  246165  22815   36232   84512  \n",
       "1509 2008-07-07 20:00:00 23122  113794  174968  228722  22420   34607   79897  \n",
       "1510 2008-07-07 21:00:00 22305  110332  167040  220612  21852   32921   78252  \n",
       "     zone.16 zone.17 ... zone.2 zone.20 zone.21 zone.3 zone.4 zone.5 zone.6\n",
       "1505 42909   45822   ... 244890 112540  2424298 264237 488    11612  256503\n",
       "1506 44543   47149   ... 233427 110340  2398439 251868 526    11679  245106\n",
       "1507 48807   49613   ... 219468 115551  2427857 236807 548    10641  230109\n",
       "1508 46373   47985   ... 210476 111560  2332031 227104 553     9960  220436\n",
       "1509 43641   47215   ... 201663 108309  2215667 217594 539     9341  211004\n",
       "1510 41535   45423   ... 196691 106030  2138603 212229 546     8880  205570\n",
       "     zone.7 zone.8 zone.9\n",
       "1505 264237 4049   20790 \n",
       "1506 251868 4180   22113 \n",
       "1507 236807 4228   63084 \n",
       "1508 227104 4239   75369 \n",
       "1509 217594 4287   75600 \n",
       "1510 212229 4256   76356 "
      ]
     },
     "metadata": {},
     "output_type": "display_data"
    }
   ],
   "source": [
    "tail(tidyEnsembleDf)"
   ]
  },
  {
   "cell_type": "code",
   "execution_count": 30,
   "metadata": {
    "scrolled": false
   },
   "outputs": [],
   "source": [
    "fullDf = tidyLoadDf\n",
    "fullDf[is.na(fullDf$zone.1), ] = tidyEnsembleDf[, names(fullDf)]"
   ]
  },
  {
   "cell_type": "code",
   "execution_count": 31,
   "metadata": {},
   "outputs": [
    {
     "data": {
      "text/html": [
       "<table>\n",
       "<thead><tr><th></th><th scope=col>DateTime</th><th scope=col>zone.1</th><th scope=col>zone.10</th><th scope=col>zone.11</th><th scope=col>zone.12</th><th scope=col>zone.13</th><th scope=col>zone.14</th><th scope=col>zone.15</th><th scope=col>zone.16</th><th scope=col>zone.17</th><th scope=col>...</th><th scope=col>zone.2</th><th scope=col>zone.20</th><th scope=col>zone.21</th><th scope=col>zone.3</th><th scope=col>zone.4</th><th scope=col>zone.5</th><th scope=col>zone.6</th><th scope=col>zone.7</th><th scope=col>zone.8</th><th scope=col>zone.9</th></tr></thead>\n",
       "<tbody>\n",
       "\t<tr><th scope=row>1505</th><td>2008-07-07 16:00:00</td><td>26418              </td><td>125860             </td><td>196311             </td><td>257577             </td><td>20936              </td><td>31836              </td><td>84629              </td><td>42909              </td><td>45822              </td><td>...                </td><td>244890             </td><td>112540             </td><td>1602382            </td><td>264237             </td><td>488                </td><td>11612              </td><td>256503             </td><td>264237             </td><td>4049               </td><td>20790              </td></tr>\n",
       "\t<tr><th scope=row>1506</th><td>2008-07-07 17:00:00</td><td>24067              </td><td>125924             </td><td>199347             </td><td>264307             </td><td>20491              </td><td>33418              </td><td>81089              </td><td>44543              </td><td>47149              </td><td>...                </td><td>233427             </td><td>110340             </td><td>1611099            </td><td>251868             </td><td>526                </td><td>11679              </td><td>245106             </td><td>251868             </td><td>4180               </td><td>22113              </td></tr>\n",
       "\t<tr><th scope=row>1507</th><td>2008-07-07 18:00:00</td><td>24199              </td><td>124208             </td><td>196250             </td><td>261670             </td><td>23412              </td><td>37700              </td><td>89591              </td><td>48807              </td><td>49613              </td><td>...                </td><td>219468             </td><td>115551             </td><td>1645633            </td><td>236807             </td><td>548                </td><td>10641              </td><td>230109             </td><td>236807             </td><td>4228               </td><td>63084              </td></tr>\n",
       "\t<tr><th scope=row>1508</th><td>2008-07-07 19:00:00</td><td>23831              </td><td>119105             </td><td>185775             </td><td>246165             </td><td>22815              </td><td>36232              </td><td>84512              </td><td>46373              </td><td>47985              </td><td>...                </td><td>210476             </td><td>111560             </td><td>1567266            </td><td>227104             </td><td>553                </td><td> 9960              </td><td>220436             </td><td>227104             </td><td>4239               </td><td>75369              </td></tr>\n",
       "\t<tr><th scope=row>1509</th><td>2008-07-07 20:00:00</td><td>23122              </td><td>113794             </td><td>174968             </td><td>228722             </td><td>22420              </td><td>34607              </td><td>79897              </td><td>43641              </td><td>47215              </td><td>...                </td><td>201663             </td><td>108309             </td><td>1479708            </td><td>217594             </td><td>539                </td><td> 9341              </td><td>211004             </td><td>217594             </td><td>4287               </td><td>75600              </td></tr>\n",
       "\t<tr><th scope=row>1510</th><td>2008-07-07 21:00:00</td><td>22305              </td><td>110332             </td><td>167040             </td><td>220612             </td><td>21852              </td><td>32921              </td><td>78252              </td><td>41535              </td><td>45423              </td><td>...                </td><td>196691             </td><td>106030             </td><td>1418537            </td><td>212229             </td><td>546                </td><td> 8880              </td><td>205570             </td><td>212229             </td><td>4256               </td><td>76356              </td></tr>\n",
       "</tbody>\n",
       "</table>\n"
      ],
      "text/latex": [
       "\\begin{tabular}{r|llllllllllllllllllllll}\n",
       "  & DateTime & zone.1 & zone.10 & zone.11 & zone.12 & zone.13 & zone.14 & zone.15 & zone.16 & zone.17 & ... & zone.2 & zone.20 & zone.21 & zone.3 & zone.4 & zone.5 & zone.6 & zone.7 & zone.8 & zone.9\\\\\n",
       "\\hline\n",
       "\t1505 & 2008-07-07 16:00:00 & 26418               & 125860              & 196311              & 257577              & 20936               & 31836               & 84629               & 42909               & 45822               & ...                 & 244890              & 112540              & 1602382             & 264237              & 488                 & 11612               & 256503              & 264237              & 4049                & 20790              \\\\\n",
       "\t1506 & 2008-07-07 17:00:00 & 24067               & 125924              & 199347              & 264307              & 20491               & 33418               & 81089               & 44543               & 47149               & ...                 & 233427              & 110340              & 1611099             & 251868              & 526                 & 11679               & 245106              & 251868              & 4180                & 22113              \\\\\n",
       "\t1507 & 2008-07-07 18:00:00 & 24199               & 124208              & 196250              & 261670              & 23412               & 37700               & 89591               & 48807               & 49613               & ...                 & 219468              & 115551              & 1645633             & 236807              & 548                 & 10641               & 230109              & 236807              & 4228                & 63084              \\\\\n",
       "\t1508 & 2008-07-07 19:00:00 & 23831               & 119105              & 185775              & 246165              & 22815               & 36232               & 84512               & 46373               & 47985               & ...                 & 210476              & 111560              & 1567266             & 227104              & 553                 &  9960               & 220436              & 227104              & 4239                & 75369              \\\\\n",
       "\t1509 & 2008-07-07 20:00:00 & 23122               & 113794              & 174968              & 228722              & 22420               & 34607               & 79897               & 43641               & 47215               & ...                 & 201663              & 108309              & 1479708             & 217594              & 539                 &  9341               & 211004              & 217594              & 4287                & 75600              \\\\\n",
       "\t1510 & 2008-07-07 21:00:00 & 22305               & 110332              & 167040              & 220612              & 21852               & 32921               & 78252               & 41535               & 45423               & ...                 & 196691              & 106030              & 1418537             & 212229              & 546                 &  8880               & 205570              & 212229              & 4256                & 76356              \\\\\n",
       "\\end{tabular}\n"
      ],
      "text/markdown": [
       "\n",
       "| <!--/--> | DateTime | zone.1 | zone.10 | zone.11 | zone.12 | zone.13 | zone.14 | zone.15 | zone.16 | zone.17 | ... | zone.2 | zone.20 | zone.21 | zone.3 | zone.4 | zone.5 | zone.6 | zone.7 | zone.8 | zone.9 |\n",
       "|---|---|---|---|---|---|---|---|---|---|---|---|---|---|---|---|---|---|---|---|---|---|\n",
       "| 1505 | 2008-07-07 16:00:00 | 26418               | 125860              | 196311              | 257577              | 20936               | 31836               | 84629               | 42909               | 45822               | ...                 | 244890              | 112540              | 1602382             | 264237              | 488                 | 11612               | 256503              | 264237              | 4049                | 20790               |\n",
       "| 1506 | 2008-07-07 17:00:00 | 24067               | 125924              | 199347              | 264307              | 20491               | 33418               | 81089               | 44543               | 47149               | ...                 | 233427              | 110340              | 1611099             | 251868              | 526                 | 11679               | 245106              | 251868              | 4180                | 22113               |\n",
       "| 1507 | 2008-07-07 18:00:00 | 24199               | 124208              | 196250              | 261670              | 23412               | 37700               | 89591               | 48807               | 49613               | ...                 | 219468              | 115551              | 1645633             | 236807              | 548                 | 10641               | 230109              | 236807              | 4228                | 63084               |\n",
       "| 1508 | 2008-07-07 19:00:00 | 23831               | 119105              | 185775              | 246165              | 22815               | 36232               | 84512               | 46373               | 47985               | ...                 | 210476              | 111560              | 1567266             | 227104              | 553                 |  9960               | 220436              | 227104              | 4239                | 75369               |\n",
       "| 1509 | 2008-07-07 20:00:00 | 23122               | 113794              | 174968              | 228722              | 22420               | 34607               | 79897               | 43641               | 47215               | ...                 | 201663              | 108309              | 1479708             | 217594              | 539                 |  9341               | 211004              | 217594              | 4287                | 75600               |\n",
       "| 1510 | 2008-07-07 21:00:00 | 22305               | 110332              | 167040              | 220612              | 21852               | 32921               | 78252               | 41535               | 45423               | ...                 | 196691              | 106030              | 1418537             | 212229              | 546                 |  8880               | 205570              | 212229              | 4256                | 76356               |\n",
       "\n"
      ],
      "text/plain": [
       "     DateTime            zone.1 zone.10 zone.11 zone.12 zone.13 zone.14 zone.15\n",
       "1505 2008-07-07 16:00:00 26418  125860  196311  257577  20936   31836   84629  \n",
       "1506 2008-07-07 17:00:00 24067  125924  199347  264307  20491   33418   81089  \n",
       "1507 2008-07-07 18:00:00 24199  124208  196250  261670  23412   37700   89591  \n",
       "1508 2008-07-07 19:00:00 23831  119105  185775  246165  22815   36232   84512  \n",
       "1509 2008-07-07 20:00:00 23122  113794  174968  228722  22420   34607   79897  \n",
       "1510 2008-07-07 21:00:00 22305  110332  167040  220612  21852   32921   78252  \n",
       "     zone.16 zone.17 ... zone.2 zone.20 zone.21 zone.3 zone.4 zone.5 zone.6\n",
       "1505 42909   45822   ... 244890 112540  1602382 264237 488    11612  256503\n",
       "1506 44543   47149   ... 233427 110340  1611099 251868 526    11679  245106\n",
       "1507 48807   49613   ... 219468 115551  1645633 236807 548    10641  230109\n",
       "1508 46373   47985   ... 210476 111560  1567266 227104 553     9960  220436\n",
       "1509 43641   47215   ... 201663 108309  1479708 217594 539     9341  211004\n",
       "1510 41535   45423   ... 196691 106030  1418537 212229 546     8880  205570\n",
       "     zone.7 zone.8 zone.9\n",
       "1505 264237 4049   20790 \n",
       "1506 251868 4180   22113 \n",
       "1507 236807 4228   63084 \n",
       "1508 227104 4239   75369 \n",
       "1509 217594 4287   75600 \n",
       "1510 212229 4256   76356 "
      ]
     },
     "metadata": {},
     "output_type": "display_data"
    }
   ],
   "source": [
    "tail(fullDf)"
   ]
  },
  {
   "cell_type": "code",
   "execution_count": 32,
   "metadata": {},
   "outputs": [],
   "source": [
    "write.csv(fullDf, \"complete.csv\", row.names=FALSE)"
   ]
  },
  {
   "cell_type": "code",
   "execution_count": null,
   "metadata": {},
   "outputs": [],
   "source": []
  }
 ],
 "metadata": {
  "kernelspec": {
   "display_name": "R",
   "language": "R",
   "name": "ir"
  },
  "language_info": {
   "codemirror_mode": "r",
   "file_extension": ".r",
   "mimetype": "text/x-r-source",
   "name": "R",
   "pygments_lexer": "r",
   "version": "3.6.1"
  }
 },
 "nbformat": 4,
 "nbformat_minor": 4
}
