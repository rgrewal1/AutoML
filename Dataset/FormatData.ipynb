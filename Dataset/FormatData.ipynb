{
 "metadata": {
  "language_info": {
   "codemirror_mode": {
    "name": "ipython",
    "version": 3
   },
   "file_extension": ".py",
   "mimetype": "text/x-python",
   "name": "python",
   "nbconvert_exporter": "python",
   "pygments_lexer": "ipython3",
   "version": "3.9.1-final"
  },
  "orig_nbformat": 2,
  "kernelspec": {
   "name": "python3",
   "display_name": "Python 3.9.1 64-bit",
   "metadata": {
    "interpreter": {
     "hash": "dfcbc1b5d333849507957c6c6674f4c44f5aceabf06e98221652757e7c72bbcb"
    }
   }
  }
 },
 "nbformat": 4,
 "nbformat_minor": 2,
 "cells": [
  {
   "cell_type": "code",
   "execution_count": 2,
   "metadata": {},
   "outputs": [
    {
     "output_type": "error",
     "ename": "SyntaxError",
     "evalue": "invalid syntax (<ipython-input-2-7e59eddb71ad>, line 7)",
     "traceback": [
      "\u001b[1;36m  File \u001b[1;32m\"<ipython-input-2-7e59eddb71ad>\"\u001b[1;36m, line \u001b[1;32m7\u001b[0m\n\u001b[1;33m    setAs(\"character\", \"num.with.commas\", function(from) as.numeric(gsub(\",\", \"\", from) ) )\u001b[0m\n\u001b[1;37m                                                   ^\u001b[0m\n\u001b[1;31mSyntaxError\u001b[0m\u001b[1;31m:\u001b[0m invalid syntax\n"
     ]
    }
   ],
   "source": [
    "install.packages(\"tidyverse\")\n",
    "\n",
    "load = \"Load_history.csv\"\n",
    "temp = \"temperature\" \n",
    "\n",
    "setClass(\"num.with.commas\")\n",
    "setAs(\"character\", \"num.with.commas\", function(string) as.numeric(gsub(\",\", \"\", string) ) )\n",
    "\n",
    "loadRawClasses = c('factor', rep(\"numeric\", 3), rep(\"num.with.commas\", 24))\n",
    "\n",
    "df = read.csv(load, stringsAsFactors=FALSE, colClasses=loadRawClasses)"
   ]
  },
  {
   "cell_type": "code",
   "execution_count": null,
   "metadata": {},
   "outputs": [],
   "source": []
  }
 ]
}