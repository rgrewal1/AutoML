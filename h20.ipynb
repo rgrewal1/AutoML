{
 "metadata": {
  "language_info": {
   "codemirror_mode": {
    "name": "ipython",
    "version": 3
   },
   "file_extension": ".py",
   "mimetype": "text/x-python",
   "name": "python",
   "nbconvert_exporter": "python",
   "pygments_lexer": "ipython3",
   "version": "3.8.5-final"
  },
  "orig_nbformat": 2,
  "kernelspec": {
   "name": "python3",
   "display_name": "Python 3.8.5 64-bit ('Anaconda3': virtualenv)",
   "metadata": {
    "interpreter": {
     "hash": "2bf8f98cd9347e095df38b8480e7bc42e5fce1dfec3ce86d8029489262e0911d"
    }
   }
  }
 },
 "nbformat": 4,
 "nbformat_minor": 2,
 "cells": [
  {
   "cell_type": "code",
   "execution_count": 1,
   "metadata": {},
   "outputs": [
    {
     "output_type": "stream",
     "name": "stdout",
     "text": [
      "Checking whether there is an H2O instance running at http://localhost:54321 . connected.\n"
     ]
    },
    {
     "output_type": "display_data",
     "data": {
      "text/plain": "--------------------------  ------------------------------------------------------------------\nH2O_cluster_uptime:         2 hours 2 mins\nH2O_cluster_timezone:       Europe/Berlin\nH2O_data_parsing_timezone:  UTC\nH2O_cluster_version:        3.32.1.1\nH2O_cluster_version_age:    1 month and 4 days\nH2O_cluster_name:           H2O_from_python_uwwfb_icmdd3\nH2O_cluster_total_nodes:    1\nH2O_cluster_free_memory:    180.9 Gb\nH2O_cluster_total_cores:    48\nH2O_cluster_allowed_cores:  48\nH2O_cluster_status:         locked, healthy\nH2O_connection_url:         http://localhost:54321\nH2O_connection_proxy:       {\"http\": null, \"https\": null}\nH2O_internal_security:      False\nH2O_API_Extensions:         Amazon S3, XGBoost, Algos, AutoML, Core V3, TargetEncoder, Core V4\nPython_version:             3.8.5 final\n--------------------------  ------------------------------------------------------------------",
      "text/html": "<div style=\"overflow:auto\"><table style=\"width:50%\"><tr><td>H2O_cluster_uptime:</td>\n<td>2 hours 2 mins</td></tr>\n<tr><td>H2O_cluster_timezone:</td>\n<td>Europe/Berlin</td></tr>\n<tr><td>H2O_data_parsing_timezone:</td>\n<td>UTC</td></tr>\n<tr><td>H2O_cluster_version:</td>\n<td>3.32.1.1</td></tr>\n<tr><td>H2O_cluster_version_age:</td>\n<td>1 month and 4 days </td></tr>\n<tr><td>H2O_cluster_name:</td>\n<td>H2O_from_python_uwwfb_icmdd3</td></tr>\n<tr><td>H2O_cluster_total_nodes:</td>\n<td>1</td></tr>\n<tr><td>H2O_cluster_free_memory:</td>\n<td>180.9 Gb</td></tr>\n<tr><td>H2O_cluster_total_cores:</td>\n<td>48</td></tr>\n<tr><td>H2O_cluster_allowed_cores:</td>\n<td>48</td></tr>\n<tr><td>H2O_cluster_status:</td>\n<td>locked, healthy</td></tr>\n<tr><td>H2O_connection_url:</td>\n<td>http://localhost:54321</td></tr>\n<tr><td>H2O_connection_proxy:</td>\n<td>{\"http\": null, \"https\": null}</td></tr>\n<tr><td>H2O_internal_security:</td>\n<td>False</td></tr>\n<tr><td>H2O_API_Extensions:</td>\n<td>Amazon S3, XGBoost, Algos, AutoML, Core V3, TargetEncoder, Core V4</td></tr>\n<tr><td>Python_version:</td>\n<td>3.8.5 final</td></tr></table></div>"
     },
     "metadata": {}
    }
   ],
   "source": [
    "import h2o\n",
    "from h2o.automl import H2OAutoML\n",
    "h2o.init(max_mem_size='200g')"
   ]
  },
  {
   "cell_type": "code",
   "execution_count": 2,
   "metadata": {},
   "outputs": [],
   "source": [
    "target_zone='zone_18'\n",
    "runtime = 600"
   ]
  },
  {
   "cell_type": "code",
   "execution_count": 3,
   "metadata": {},
   "outputs": [],
   "source": [
    "import pandas as pd"
   ]
  },
  {
   "cell_type": "code",
   "execution_count": 4,
   "metadata": {},
   "outputs": [],
   "source": [
    "aml=h2o.upload_model(f'Frameworks/H2o/{target_zone}/{target_zone}_{runtime}')"
   ]
  },
  {
   "cell_type": "code",
   "execution_count": 5,
   "metadata": {},
   "outputs": [
    {
     "output_type": "stream",
     "name": "stdout",
     "text": [
      "Parse progress: |█████████████████████████████████████████████████████████| 100%\n"
     ]
    }
   ],
   "source": [
    "test=h2o.import_file(f'Dataset/Zones/{target_zone}test.csv')"
   ]
  },
  {
   "cell_type": "code",
   "execution_count": 6,
   "metadata": {},
   "outputs": [
    {
     "output_type": "stream",
     "name": "stdout",
     "text": [
      "Parse progress: |█████████████████████████████████████████████████████████| 100%\n"
     ]
    }
   ],
   "source": [
    "data_comlete = h2o.import_file(f'Dataset/{target_zone}.csv')\n",
    "preds= data_comlete[target_zone]\n",
    "#gap is the missing values\n",
    "gap = data_comlete[range(39413,39432,1),:]"
   ]
  },
  {
   "cell_type": "code",
   "execution_count": 7,
   "metadata": {},
   "outputs": [
    {
     "output_type": "display_data",
     "data": {
      "text/html": "<table>\n<thead>\n<tr><th>datetime           </th><th style=\"text-align: right;\">  year</th><th style=\"text-align: right;\">  month</th><th style=\"text-align: right;\">  day</th><th style=\"text-align: right;\">  hour</th><th style=\"text-align: right;\">  station_1</th><th style=\"text-align: right;\">  station_2</th><th style=\"text-align: right;\">  station_3</th><th style=\"text-align: right;\">  station_4</th><th style=\"text-align: right;\">  station_5</th><th style=\"text-align: right;\">  station_6</th><th style=\"text-align: right;\">  station_7</th><th style=\"text-align: right;\">  station_8</th><th style=\"text-align: right;\">  station_9</th><th style=\"text-align: right;\">  station_10</th><th style=\"text-align: right;\">  station_11</th><th style=\"text-align: right;\">  zone_9</th><th style=\"text-align: right;\">  target</th><th style=\"text-align: right;\">  workday</th></tr>\n</thead>\n<tbody>\n<tr><td>2008-06-30 05:00:00</td><td style=\"text-align: right;\">  2008</td><td style=\"text-align: right;\">      6</td><td style=\"text-align: right;\">   30</td><td style=\"text-align: right;\">     5</td><td style=\"text-align: right;\">         75</td><td style=\"text-align: right;\">         63</td><td style=\"text-align: right;\">         74</td><td style=\"text-align: right;\">         71</td><td style=\"text-align: right;\">         72</td><td style=\"text-align: right;\">         68</td><td style=\"text-align: right;\">         71</td><td style=\"text-align: right;\">         71</td><td style=\"text-align: right;\">         69</td><td style=\"text-align: right;\">          70</td><td style=\"text-align: right;\">          64</td><td style=\"text-align: right;\">   77196</td><td style=\"text-align: right;\">     nan</td><td style=\"text-align: right;\">        1</td></tr>\n<tr><td>2008-06-30 06:00:00</td><td style=\"text-align: right;\">  2008</td><td style=\"text-align: right;\">      6</td><td style=\"text-align: right;\">   30</td><td style=\"text-align: right;\">     6</td><td style=\"text-align: right;\">         75</td><td style=\"text-align: right;\">         64</td><td style=\"text-align: right;\">         73</td><td style=\"text-align: right;\">         71</td><td style=\"text-align: right;\">         73</td><td style=\"text-align: right;\">         69</td><td style=\"text-align: right;\">         70</td><td style=\"text-align: right;\">         71</td><td style=\"text-align: right;\">         68</td><td style=\"text-align: right;\">          70</td><td style=\"text-align: right;\">          64</td><td style=\"text-align: right;\">     nan</td><td style=\"text-align: right;\">     nan</td><td style=\"text-align: right;\">        1</td></tr>\n<tr><td>2008-06-30 07:00:00</td><td style=\"text-align: right;\">  2008</td><td style=\"text-align: right;\">      6</td><td style=\"text-align: right;\">   30</td><td style=\"text-align: right;\">     7</td><td style=\"text-align: right;\">         76</td><td style=\"text-align: right;\">         67</td><td style=\"text-align: right;\">         74</td><td style=\"text-align: right;\">         72</td><td style=\"text-align: right;\">         74</td><td style=\"text-align: right;\">         71</td><td style=\"text-align: right;\">         72</td><td style=\"text-align: right;\">         71</td><td style=\"text-align: right;\">         71</td><td style=\"text-align: right;\">          71</td><td style=\"text-align: right;\">          68</td><td style=\"text-align: right;\">     nan</td><td style=\"text-align: right;\">     nan</td><td style=\"text-align: right;\">        1</td></tr>\n<tr><td>2008-06-30 08:00:00</td><td style=\"text-align: right;\">  2008</td><td style=\"text-align: right;\">      6</td><td style=\"text-align: right;\">   30</td><td style=\"text-align: right;\">     8</td><td style=\"text-align: right;\">         78</td><td style=\"text-align: right;\">         69</td><td style=\"text-align: right;\">         75</td><td style=\"text-align: right;\">         75</td><td style=\"text-align: right;\">         75</td><td style=\"text-align: right;\">         73</td><td style=\"text-align: right;\">         75</td><td style=\"text-align: right;\">         73</td><td style=\"text-align: right;\">         76</td><td style=\"text-align: right;\">          74</td><td style=\"text-align: right;\">          70</td><td style=\"text-align: right;\">     nan</td><td style=\"text-align: right;\">     nan</td><td style=\"text-align: right;\">        1</td></tr>\n<tr><td>2008-06-30 09:00:00</td><td style=\"text-align: right;\">  2008</td><td style=\"text-align: right;\">      6</td><td style=\"text-align: right;\">   30</td><td style=\"text-align: right;\">     9</td><td style=\"text-align: right;\">         79</td><td style=\"text-align: right;\">         72</td><td style=\"text-align: right;\">         76</td><td style=\"text-align: right;\">         77</td><td style=\"text-align: right;\">         77</td><td style=\"text-align: right;\">         78</td><td style=\"text-align: right;\">         78</td><td style=\"text-align: right;\">         77</td><td style=\"text-align: right;\">         79</td><td style=\"text-align: right;\">          79</td><td style=\"text-align: right;\">          71</td><td style=\"text-align: right;\">     nan</td><td style=\"text-align: right;\">     nan</td><td style=\"text-align: right;\">        1</td></tr>\n<tr><td>2008-06-30 10:00:00</td><td style=\"text-align: right;\">  2008</td><td style=\"text-align: right;\">      6</td><td style=\"text-align: right;\">   30</td><td style=\"text-align: right;\">    10</td><td style=\"text-align: right;\">         80</td><td style=\"text-align: right;\">         75</td><td style=\"text-align: right;\">         80</td><td style=\"text-align: right;\">         80</td><td style=\"text-align: right;\">         80</td><td style=\"text-align: right;\">         80</td><td style=\"text-align: right;\">         80</td><td style=\"text-align: right;\">         80</td><td style=\"text-align: right;\">         79</td><td style=\"text-align: right;\">          81</td><td style=\"text-align: right;\">          75</td><td style=\"text-align: right;\">     nan</td><td style=\"text-align: right;\">     nan</td><td style=\"text-align: right;\">        1</td></tr>\n<tr><td>2008-06-30 11:00:00</td><td style=\"text-align: right;\">  2008</td><td style=\"text-align: right;\">      6</td><td style=\"text-align: right;\">   30</td><td style=\"text-align: right;\">    11</td><td style=\"text-align: right;\">         83</td><td style=\"text-align: right;\">         76</td><td style=\"text-align: right;\">         81</td><td style=\"text-align: right;\">         83</td><td style=\"text-align: right;\">         82</td><td style=\"text-align: right;\">         82</td><td style=\"text-align: right;\">         82</td><td style=\"text-align: right;\">         83</td><td style=\"text-align: right;\">         81</td><td style=\"text-align: right;\">          82</td><td style=\"text-align: right;\">          77</td><td style=\"text-align: right;\">     nan</td><td style=\"text-align: right;\">     nan</td><td style=\"text-align: right;\">        1</td></tr>\n<tr><td>2008-06-30 12:00:00</td><td style=\"text-align: right;\">  2008</td><td style=\"text-align: right;\">      6</td><td style=\"text-align: right;\">   30</td><td style=\"text-align: right;\">    12</td><td style=\"text-align: right;\">         84</td><td style=\"text-align: right;\">         75</td><td style=\"text-align: right;\">         83</td><td style=\"text-align: right;\">         86</td><td style=\"text-align: right;\">         83</td><td style=\"text-align: right;\">         84</td><td style=\"text-align: right;\">         84</td><td style=\"text-align: right;\">         86</td><td style=\"text-align: right;\">         84</td><td style=\"text-align: right;\">          85</td><td style=\"text-align: right;\">          74</td><td style=\"text-align: right;\">     nan</td><td style=\"text-align: right;\">     nan</td><td style=\"text-align: right;\">        1</td></tr>\n<tr><td>2008-06-30 13:00:00</td><td style=\"text-align: right;\">  2008</td><td style=\"text-align: right;\">      6</td><td style=\"text-align: right;\">   30</td><td style=\"text-align: right;\">    13</td><td style=\"text-align: right;\">         86</td><td style=\"text-align: right;\">         76</td><td style=\"text-align: right;\">         84</td><td style=\"text-align: right;\">         88</td><td style=\"text-align: right;\">         85</td><td style=\"text-align: right;\">         84</td><td style=\"text-align: right;\">         84</td><td style=\"text-align: right;\">         86</td><td style=\"text-align: right;\">         84</td><td style=\"text-align: right;\">          85</td><td style=\"text-align: right;\">          78</td><td style=\"text-align: right;\">     nan</td><td style=\"text-align: right;\">     nan</td><td style=\"text-align: right;\">        1</td></tr>\n<tr><td>2008-06-30 14:00:00</td><td style=\"text-align: right;\">  2008</td><td style=\"text-align: right;\">      6</td><td style=\"text-align: right;\">   30</td><td style=\"text-align: right;\">    14</td><td style=\"text-align: right;\">         88</td><td style=\"text-align: right;\">         75</td><td style=\"text-align: right;\">         85</td><td style=\"text-align: right;\">         90</td><td style=\"text-align: right;\">         84</td><td style=\"text-align: right;\">         84</td><td style=\"text-align: right;\">         85</td><td style=\"text-align: right;\">         88</td><td style=\"text-align: right;\">         83</td><td style=\"text-align: right;\">          84</td><td style=\"text-align: right;\">          74</td><td style=\"text-align: right;\">     nan</td><td style=\"text-align: right;\">     nan</td><td style=\"text-align: right;\">        1</td></tr>\n</tbody>\n</table>"
     },
     "metadata": {}
    },
    {
     "output_type": "execute_result",
     "data": {
      "text/plain": []
     },
     "metadata": {},
     "execution_count": 7
    }
   ],
   "source": [
    "gap"
   ]
  },
  {
   "cell_type": "code",
   "execution_count": 8,
   "metadata": {},
   "outputs": [
    {
     "output_type": "stream",
     "name": "stdout",
     "text": [
      "stackedensemble prediction progress: |████████████████████████████████████| 100%\n",
      "stackedensemble prediction progress: |████████████████████████████████████| 100%\n",
      "stackedensemble prediction progress: |████████████████████████████████████| 100%\n",
      "stackedensemble prediction progress: |████████████████████████████████████| 100%\n",
      "stackedensemble prediction progress: |████████████████████████████████████| 100%\n",
      "stackedensemble prediction progress: |████████████████████████████████████| 100%\n",
      "stackedensemble prediction progress: |████████████████████████████████████| 100%\n",
      "stackedensemble prediction progress: |████████████████████████████████████| 100%\n",
      "stackedensemble prediction progress: |████████████████████████████████████| 100%\n",
      "stackedensemble prediction progress: |████████████████████████████████████| 100%\n",
      "stackedensemble prediction progress: |████████████████████████████████████| 100%\n",
      "stackedensemble prediction progress: |████████████████████████████████████| 100%\n",
      "stackedensemble prediction progress: |████████████████████████████████████| 100%\n",
      "stackedensemble prediction progress: |████████████████████████████████████| 100%\n",
      "stackedensemble prediction progress: |████████████████████████████████████| 100%\n",
      "stackedensemble prediction progress: |████████████████████████████████████| 100%\n",
      "stackedensemble prediction progress: |████████████████████████████████████| 100%\n",
      "stackedensemble prediction progress: |████████████████████████████████████| 100%\n",
      "stackedensemble prediction progress: |████████████████████████████████████| 100%\n",
      "70607.12668121458\n"
     ]
    }
   ],
   "source": [
    "for x in range(0, 19):\n",
    "    #row is the current hour in the loop starting with 2008-07-01 00:00:00\n",
    "    row = gap[x,:]\n",
    "    pred=aml.predict(row)\n",
    "    gap[x+1,16]=pred[0,0]\n",
    "\n",
    "last_value=pred[0,0]\n",
    "print(last_value)\n",
    "  "
   ]
  },
  {
   "cell_type": "code",
   "execution_count": 9,
   "metadata": {},
   "outputs": [
    {
     "output_type": "stream",
     "name": "stdout",
     "text": [
      "Parse progress: |█████████████████████████████████████████████████████████| 100%\n"
     ]
    }
   ],
   "source": [
    "test_data = pd.read_csv(f'Dataset/Zones/{target_zone}test.csv')\n",
    "target = test_data['target']\n",
    "preds = test_data[target_zone]\n",
    "test = h2o.import_file(f'Dataset/Zones/{target_zone}test.csv')\n",
    "#add the last prediction from the missing 19 value as the first target_column value\n",
    "test[0,16]=last_value"
   ]
  },
  {
   "cell_type": "code",
   "execution_count": 10,
   "metadata": {},
   "outputs": [
    {
     "output_type": "execute_result",
     "data": {
      "text/plain": [
       "0      76314.0\n",
       "1      76377.0\n",
       "2      79422.0\n",
       "3      80346.0\n",
       "4      92820.0\n",
       "        ...   \n",
       "162    75369.0\n",
       "163    75600.0\n",
       "164    76356.0\n",
       "165    76839.0\n",
       "166    76944.0\n",
       "Name: target, Length: 167, dtype: float64"
      ]
     },
     "metadata": {},
     "execution_count": 10
    }
   ],
   "source": [
    "target"
   ]
  },
  {
   "cell_type": "code",
   "execution_count": 11,
   "metadata": {},
   "outputs": [
    {
     "output_type": "execute_result",
     "data": {
      "text/plain": [
       "0      75621.0\n",
       "1      76314.0\n",
       "2      76377.0\n",
       "3      79422.0\n",
       "4      80346.0\n",
       "        ...   \n",
       "162    63084.0\n",
       "163    75369.0\n",
       "164    75600.0\n",
       "165    76356.0\n",
       "166    76839.0\n",
       "Name: zone_9, Length: 167, dtype: float64"
      ]
     },
     "metadata": {},
     "execution_count": 11
    }
   ],
   "source": [
    "preds"
   ]
  },
  {
   "cell_type": "code",
   "execution_count": 12,
   "metadata": {},
   "outputs": [
    {
     "output_type": "stream",
     "name": "stdout",
     "text": [
      "0\n",
      "stackedensemble prediction progress: |████████████████████████████████████| 100%\n",
      "1\n",
      "stackedensemble prediction progress: |████████████████████████████████████| 100%\n",
      "2\n",
      "stackedensemble prediction progress: |████████████████████████████████████| 100%\n",
      "3\n",
      "stackedensemble prediction progress: |████████████████████████████████████| 100%\n",
      "4\n",
      "stackedensemble prediction progress: |████████████████████████████████████| 100%\n",
      "5\n",
      "stackedensemble prediction progress: |████████████████████████████████████| 100%\n",
      "6\n",
      "stackedensemble prediction progress: |████████████████████████████████████| 100%\n",
      "7\n",
      "stackedensemble prediction progress: |████████████████████████████████████| 100%\n",
      "8\n",
      "stackedensemble prediction progress: |████████████████████████████████████| 100%\n",
      "9\n",
      "stackedensemble prediction progress: |████████████████████████████████████| 100%\n",
      "10\n",
      "stackedensemble prediction progress: |████████████████████████████████████| 100%\n",
      "11\n",
      "stackedensemble prediction progress: |████████████████████████████████████| 100%\n",
      "12\n",
      "stackedensemble prediction progress: |████████████████████████████████████| 100%\n",
      "13\n",
      "stackedensemble prediction progress: |████████████████████████████████████| 100%\n",
      "14\n",
      "stackedensemble prediction progress: |████████████████████████████████████| 100%\n",
      "15\n",
      "stackedensemble prediction progress: |████████████████████████████████████| 100%\n",
      "16\n",
      "stackedensemble prediction progress: |████████████████████████████████████| 100%\n",
      "17\n",
      "stackedensemble prediction progress: |████████████████████████████████████| 100%\n",
      "18\n",
      "stackedensemble prediction progress: |████████████████████████████████████| 100%\n",
      "19\n",
      "stackedensemble prediction progress: |████████████████████████████████████| 100%\n",
      "20\n",
      "stackedensemble prediction progress: |████████████████████████████████████| 100%\n",
      "21\n",
      "stackedensemble prediction progress: |████████████████████████████████████| 100%\n",
      "22\n",
      "stackedensemble prediction progress: |████████████████████████████████████| 100%\n",
      "23\n",
      "stackedensemble prediction progress: |████████████████████████████████████| 100%\n",
      "24\n",
      "stackedensemble prediction progress: |████████████████████████████████████| 100%\n",
      "25\n",
      "stackedensemble prediction progress: |████████████████████████████████████| 100%\n",
      "26\n",
      "stackedensemble prediction progress: |████████████████████████████████████| 100%\n",
      "27\n",
      "stackedensemble prediction progress: |████████████████████████████████████| 100%\n",
      "28\n",
      "stackedensemble prediction progress: |████████████████████████████████████| 100%\n",
      "29\n",
      "stackedensemble prediction progress: |████████████████████████████████████| 100%\n",
      "30\n",
      "stackedensemble prediction progress: |████████████████████████████████████| 100%\n",
      "31\n",
      "stackedensemble prediction progress: |████████████████████████████████████| 100%\n",
      "32\n",
      "stackedensemble prediction progress: |████████████████████████████████████| 100%\n",
      "33\n",
      "stackedensemble prediction progress: |████████████████████████████████████| 100%\n",
      "34\n",
      "stackedensemble prediction progress: |████████████████████████████████████| 100%\n",
      "35\n",
      "stackedensemble prediction progress: |████████████████████████████████████| 100%\n",
      "36\n",
      "stackedensemble prediction progress: |████████████████████████████████████| 100%\n",
      "37\n",
      "stackedensemble prediction progress: |████████████████████████████████████| 100%\n",
      "38\n",
      "stackedensemble prediction progress: |████████████████████████████████████| 100%\n",
      "39\n",
      "stackedensemble prediction progress: |████████████████████████████████████| 100%\n",
      "40\n",
      "stackedensemble prediction progress: |████████████████████████████████████| 100%\n",
      "41\n",
      "stackedensemble prediction progress: |████████████████████████████████████| 100%\n",
      "42\n",
      "stackedensemble prediction progress: |████████████████████████████████████| 100%\n",
      "43\n",
      "stackedensemble prediction progress: |████████████████████████████████████| 100%\n",
      "44\n",
      "stackedensemble prediction progress: |████████████████████████████████████| 100%\n",
      "45\n",
      "stackedensemble prediction progress: |████████████████████████████████████| 100%\n",
      "46\n",
      "stackedensemble prediction progress: |████████████████████████████████████| 100%\n",
      "47\n",
      "stackedensemble prediction progress: |████████████████████████████████████| 100%\n",
      "48\n",
      "stackedensemble prediction progress: |████████████████████████████████████| 100%\n",
      "49\n",
      "stackedensemble prediction progress: |████████████████████████████████████| 100%\n",
      "50\n",
      "stackedensemble prediction progress: |████████████████████████████████████| 100%\n",
      "51\n",
      "stackedensemble prediction progress: |████████████████████████████████████| 100%\n",
      "52\n",
      "stackedensemble prediction progress: |████████████████████████████████████| 100%\n",
      "53\n",
      "stackedensemble prediction progress: |████████████████████████████████████| 100%\n",
      "54\n",
      "stackedensemble prediction progress: |████████████████████████████████████| 100%\n",
      "55\n",
      "stackedensemble prediction progress: |████████████████████████████████████| 100%\n",
      "56\n",
      "stackedensemble prediction progress: |████████████████████████████████████| 100%\n",
      "57\n",
      "stackedensemble prediction progress: |████████████████████████████████████| 100%\n",
      "58\n",
      "stackedensemble prediction progress: |████████████████████████████████████| 100%\n",
      "59\n",
      "stackedensemble prediction progress: |████████████████████████████████████| 100%\n",
      "60\n",
      "stackedensemble prediction progress: |████████████████████████████████████| 100%\n",
      "61\n",
      "stackedensemble prediction progress: |████████████████████████████████████| 100%\n",
      "62\n",
      "stackedensemble prediction progress: |████████████████████████████████████| 100%\n",
      "63\n",
      "stackedensemble prediction progress: |████████████████████████████████████| 100%\n",
      "64\n",
      "stackedensemble prediction progress: |████████████████████████████████████| 100%\n",
      "65\n",
      "stackedensemble prediction progress: |████████████████████████████████████| 100%\n",
      "66\n",
      "stackedensemble prediction progress: |████████████████████████████████████| 100%\n",
      "67\n",
      "stackedensemble prediction progress: |████████████████████████████████████| 100%\n",
      "68\n",
      "stackedensemble prediction progress: |████████████████████████████████████| 100%\n",
      "69\n",
      "stackedensemble prediction progress: |████████████████████████████████████| 100%\n",
      "70\n",
      "stackedensemble prediction progress: |████████████████████████████████████| 100%\n",
      "71\n",
      "stackedensemble prediction progress: |████████████████████████████████████| 100%\n",
      "72\n",
      "stackedensemble prediction progress: |████████████████████████████████████| 100%\n",
      "73\n",
      "stackedensemble prediction progress: |████████████████████████████████████| 100%\n",
      "74\n",
      "stackedensemble prediction progress: |████████████████████████████████████| 100%\n",
      "75\n",
      "stackedensemble prediction progress: |████████████████████████████████████| 100%\n",
      "76\n",
      "stackedensemble prediction progress: |████████████████████████████████████| 100%\n",
      "77\n",
      "stackedensemble prediction progress: |████████████████████████████████████| 100%\n",
      "78\n",
      "stackedensemble prediction progress: |████████████████████████████████████| 100%\n",
      "79\n",
      "stackedensemble prediction progress: |████████████████████████████████████| 100%\n",
      "80\n",
      "stackedensemble prediction progress: |████████████████████████████████████| 100%\n",
      "81\n",
      "stackedensemble prediction progress: |████████████████████████████████████| 100%\n",
      "82\n",
      "stackedensemble prediction progress: |████████████████████████████████████| 100%\n",
      "83\n",
      "stackedensemble prediction progress: |████████████████████████████████████| 100%\n",
      "84\n",
      "stackedensemble prediction progress: |████████████████████████████████████| 100%\n",
      "85\n",
      "stackedensemble prediction progress: |████████████████████████████████████| 100%\n",
      "86\n",
      "stackedensemble prediction progress: |████████████████████████████████████| 100%\n",
      "87\n",
      "stackedensemble prediction progress: |████████████████████████████████████| 100%\n",
      "88\n",
      "stackedensemble prediction progress: |████████████████████████████████████| 100%\n",
      "89\n",
      "stackedensemble prediction progress: |████████████████████████████████████| 100%\n",
      "90\n",
      "stackedensemble prediction progress: |████████████████████████████████████| 100%\n",
      "91\n",
      "stackedensemble prediction progress: |████████████████████████████████████| 100%\n",
      "92\n",
      "stackedensemble prediction progress: |████████████████████████████████████| 100%\n",
      "93\n",
      "stackedensemble prediction progress: |████████████████████████████████████| 100%\n",
      "94\n",
      "stackedensemble prediction progress: |████████████████████████████████████| 100%\n",
      "95\n",
      "stackedensemble prediction progress: |████████████████████████████████████| 100%\n",
      "96\n",
      "stackedensemble prediction progress: |████████████████████████████████████| 100%\n",
      "97\n",
      "stackedensemble prediction progress: |████████████████████████████████████| 100%\n",
      "98\n",
      "stackedensemble prediction progress: |████████████████████████████████████| 100%\n",
      "99\n",
      "stackedensemble prediction progress: |████████████████████████████████████| 100%\n",
      "100\n",
      "stackedensemble prediction progress: |████████████████████████████████████| 100%\n",
      "101\n",
      "stackedensemble prediction progress: |████████████████████████████████████| 100%\n",
      "102\n",
      "stackedensemble prediction progress: |████████████████████████████████████| 100%\n",
      "103\n",
      "stackedensemble prediction progress: |████████████████████████████████████| 100%\n",
      "104\n",
      "stackedensemble prediction progress: |████████████████████████████████████| 100%\n",
      "105\n",
      "stackedensemble prediction progress: |████████████████████████████████████| 100%\n",
      "106\n",
      "stackedensemble prediction progress: |████████████████████████████████████| 100%\n",
      "107\n",
      "stackedensemble prediction progress: |████████████████████████████████████| 100%\n",
      "108\n",
      "stackedensemble prediction progress: |████████████████████████████████████| 100%\n",
      "109\n",
      "stackedensemble prediction progress: |████████████████████████████████████| 100%\n",
      "110\n",
      "stackedensemble prediction progress: |████████████████████████████████████| 100%\n",
      "111\n",
      "stackedensemble prediction progress: |████████████████████████████████████| 100%\n",
      "112\n",
      "stackedensemble prediction progress: |████████████████████████████████████| 100%\n",
      "113\n",
      "stackedensemble prediction progress: |████████████████████████████████████| 100%\n",
      "114\n",
      "stackedensemble prediction progress: |████████████████████████████████████| 100%\n",
      "115\n",
      "stackedensemble prediction progress: |████████████████████████████████████| 100%\n",
      "116\n",
      "stackedensemble prediction progress: |████████████████████████████████████| 100%\n",
      "117\n",
      "stackedensemble prediction progress: |████████████████████████████████████| 100%\n",
      "118\n",
      "stackedensemble prediction progress: |████████████████████████████████████| 100%\n",
      "119\n",
      "stackedensemble prediction progress: |████████████████████████████████████| 100%\n",
      "120\n",
      "stackedensemble prediction progress: |████████████████████████████████████| 100%\n",
      "121\n",
      "stackedensemble prediction progress: |████████████████████████████████████| 100%\n",
      "122\n",
      "stackedensemble prediction progress: |████████████████████████████████████| 100%\n",
      "123\n",
      "stackedensemble prediction progress: |████████████████████████████████████| 100%\n",
      "124\n",
      "stackedensemble prediction progress: |████████████████████████████████████| 100%\n",
      "125\n",
      "stackedensemble prediction progress: |████████████████████████████████████| 100%\n",
      "126\n",
      "stackedensemble prediction progress: |████████████████████████████████████| 100%\n",
      "127\n",
      "stackedensemble prediction progress: |████████████████████████████████████| 100%\n",
      "128\n",
      "stackedensemble prediction progress: |████████████████████████████████████| 100%\n",
      "129\n",
      "stackedensemble prediction progress: |████████████████████████████████████| 100%\n",
      "130\n",
      "stackedensemble prediction progress: |████████████████████████████████████| 100%\n",
      "131\n",
      "stackedensemble prediction progress: |████████████████████████████████████| 100%\n",
      "132\n",
      "stackedensemble prediction progress: |████████████████████████████████████| 100%\n",
      "133\n",
      "stackedensemble prediction progress: |████████████████████████████████████| 100%\n",
      "134\n",
      "stackedensemble prediction progress: |████████████████████████████████████| 100%\n",
      "135\n",
      "stackedensemble prediction progress: |████████████████████████████████████| 100%\n",
      "136\n",
      "stackedensemble prediction progress: |████████████████████████████████████| 100%\n",
      "137\n",
      "stackedensemble prediction progress: |████████████████████████████████████| 100%\n",
      "138\n",
      "stackedensemble prediction progress: |████████████████████████████████████| 100%\n",
      "139\n",
      "stackedensemble prediction progress: |████████████████████████████████████| 100%\n",
      "140\n",
      "stackedensemble prediction progress: |████████████████████████████████████| 100%\n",
      "141\n",
      "stackedensemble prediction progress: |████████████████████████████████████| 100%\n",
      "142\n",
      "stackedensemble prediction progress: |████████████████████████████████████| 100%\n",
      "143\n",
      "stackedensemble prediction progress: |████████████████████████████████████| 100%\n",
      "144\n",
      "stackedensemble prediction progress: |████████████████████████████████████| 100%\n",
      "145\n",
      "stackedensemble prediction progress: |████████████████████████████████████| 100%\n",
      "146\n",
      "stackedensemble prediction progress: |████████████████████████████████████| 100%\n",
      "147\n",
      "stackedensemble prediction progress: |████████████████████████████████████| 100%\n",
      "148\n",
      "stackedensemble prediction progress: |████████████████████████████████████| 100%\n",
      "149\n",
      "stackedensemble prediction progress: |████████████████████████████████████| 100%\n",
      "150\n",
      "stackedensemble prediction progress: |████████████████████████████████████| 100%\n",
      "151\n",
      "stackedensemble prediction progress: |████████████████████████████████████| 100%\n",
      "152\n",
      "stackedensemble prediction progress: |████████████████████████████████████| 100%\n",
      "153\n",
      "stackedensemble prediction progress: |████████████████████████████████████| 100%\n",
      "154\n",
      "stackedensemble prediction progress: |████████████████████████████████████| 100%\n",
      "155\n",
      "stackedensemble prediction progress: |████████████████████████████████████| 100%\n",
      "156\n",
      "stackedensemble prediction progress: |████████████████████████████████████| 100%\n",
      "157\n",
      "stackedensemble prediction progress: |████████████████████████████████████| 100%\n",
      "158\n",
      "stackedensemble prediction progress: |████████████████████████████████████| 100%\n",
      "159\n",
      "stackedensemble prediction progress: |████████████████████████████████████| 100%\n",
      "160\n",
      "stackedensemble prediction progress: |████████████████████████████████████| 100%\n",
      "161\n",
      "stackedensemble prediction progress: |████████████████████████████████████| 100%\n",
      "162\n",
      "stackedensemble prediction progress: |████████████████████████████████████| 100%\n",
      "163\n",
      "stackedensemble prediction progress: |████████████████████████████████████| 100%\n",
      "164\n",
      "stackedensemble prediction progress: |████████████████████████████████████| 100%\n",
      "165\n",
      "stackedensemble prediction progress: |████████████████████████████████████| 100%\n",
      "166\n",
      "stackedensemble prediction progress: |████████████████████████████████████| 100%\n"
     ]
    }
   ],
   "source": [
    "\n",
    "for x in range(0, len(target)):\n",
    "    row = test[x,:]\n",
    "    print(x)\n",
    "    temp=aml.predict(row)\n",
    "    preds[x]=temp[0,0]\n",
    "    test[x+1,16]=temp[0,0]\n"
   ]
  },
  {
   "cell_type": "code",
   "execution_count": 13,
   "metadata": {},
   "outputs": [
    {
     "output_type": "execute_result",
     "data": {
      "text/plain": [
       "0      70483.515659\n",
       "1      70226.386351\n",
       "2      69393.167953\n",
       "3      69310.818176\n",
       "4      67780.958517\n",
       "           ...     \n",
       "162    64888.663869\n",
       "163    67020.669505\n",
       "164    68701.020052\n",
       "165    70238.705662\n",
       "166    69966.543376\n",
       "Name: zone_9, Length: 167, dtype: float64"
      ]
     },
     "metadata": {},
     "execution_count": 13
    }
   ],
   "source": [
    "preds"
   ]
  },
  {
   "cell_type": "code",
   "execution_count": 14,
   "metadata": {},
   "outputs": [
    {
     "output_type": "execute_result",
     "data": {
      "text/plain": [
       "0      76314.0\n",
       "1      76377.0\n",
       "2      79422.0\n",
       "3      80346.0\n",
       "4      92820.0\n",
       "        ...   \n",
       "162    75369.0\n",
       "163    75600.0\n",
       "164    76356.0\n",
       "165    76839.0\n",
       "166    76944.0\n",
       "Name: target, Length: 167, dtype: float64"
      ]
     },
     "metadata": {},
     "execution_count": 14
    }
   ],
   "source": [
    "target"
   ]
  },
  {
   "cell_type": "code",
   "execution_count": 15,
   "metadata": {},
   "outputs": [
    {
     "output_type": "stream",
     "name": "stdout",
     "text": [
      "Metrics for H2o zone_9_14400\n",
      "Min Load: 6174.0\n",
      "Max Load: 93450.0\n",
      "Average Load: 64101.17964071856\n",
      "R2: 0.3916131310813379\n",
      "MAE: 14209.641837386038\n",
      "MAPE: 0.5511522264911954\n",
      "Max Error: 54750.18695535511\n"
     ]
    }
   ],
   "source": [
    "from sklearn.metrics import mean_absolute_error\n",
    "from sklearn.metrics import mean_absolute_percentage_error\n",
    "from sklearn.metrics import mean_squared_error\n",
    "from sklearn.metrics import r2_score\n",
    "from sklearn.metrics import max_error\n",
    "\n",
    "print(f'Metrics for H2o {target_zone}_{runtime}')\n",
    "print('Min Load:', target.min())\n",
    "print('Max Load:', target.max())\n",
    "print('Average Load:', target.mean())\n",
    "print('R2:', r2_score(target, preds))\n",
    "print('MAE:', mean_absolute_error(target, preds))\n",
    "print('MAPE:', mean_absolute_percentage_error(target, preds))\n",
    "print('Max Error:', max_error(target, preds))"
   ]
  },
  {
   "cell_type": "code",
   "execution_count": null,
   "metadata": {},
   "outputs": [],
   "source": []
  }
 ]
}