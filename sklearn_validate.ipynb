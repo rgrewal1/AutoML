{
 "metadata": {
  "language_info": {
   "codemirror_mode": {
    "name": "ipython",
    "version": 3
   },
   "file_extension": ".py",
   "mimetype": "text/x-python",
   "name": "python",
   "nbconvert_exporter": "python",
   "pygments_lexer": "ipython3",
   "version": "3.8.5-final"
  },
  "orig_nbformat": 2,
  "kernelspec": {
   "name": "python3",
   "display_name": "Python 3.8.5 64-bit ('Anaconda3': virtualenv)",
   "metadata": {
    "interpreter": {
     "hash": "2bf8f98cd9347e095df38b8480e7bc42e5fce1dfec3ce86d8029489262e0911d"
    }
   }
  }
 },
 "nbformat": 4,
 "nbformat_minor": 2,
 "cells": [
  {
   "cell_type": "code",
   "execution_count": 1,
   "metadata": {},
   "outputs": [],
   "source": [
    "from sklearn.metrics import r2_score\n",
    "from sklearn.metrics import median_absolute_error\n",
    "from sklearn.metrics import accuracy_score\n",
    "from matplotlib import pyplot as plt\n",
    "from sklearn.model_selection import train_test_split\n",
    "import pandas as pd\n",
    "import autosklearn.regression\n",
    "import pickle"
   ]
  },
  {
   "cell_type": "code",
   "execution_count": 2,
   "metadata": {},
   "outputs": [],
   "source": [
    "#Loaded model\n",
    "target_zone='zone_18'\n",
    "runtime = 14400\n",
    "model = pickle.load(open(f'Frameworks/Auto-sklearn/{target_zone}/{target_zone}_{runtime}', 'rb'))"
   ]
  },
  {
   "cell_type": "code",
   "execution_count": 3,
   "metadata": {},
   "outputs": [
    {
     "output_type": "stream",
     "name": "stdout",
     "text": [
      "AutoSklearnRegressor(memory_limit=2000000, metric=mean_absolute_error, n_jobs=1,\n                     per_run_time_limit=1440,\n                     resampling_strategy_arguments={'train_size': 0.8},\n                     time_left_for_this_task=14400)\n"
     ]
    }
   ],
   "source": [
    "print(model)"
   ]
  },
  {
   "cell_type": "code",
   "execution_count": 4,
   "metadata": {},
   "outputs": [
    {
     "output_type": "stream",
     "name": "stdout",
     "text": [
      "170220.98608398438\n"
     ]
    }
   ],
   "source": [
    "#Predict the missing Data between training and testing dataset\n",
    "data_comlete = pd.read_csv(f'Dataset/{target_zone}.csv')\n",
    "#gap is the missing values\n",
    "gap = data_comlete.set_index('datetime')['2008-06-30 05:00:00': '2008-06-30 23:00:00']\n",
    "gap.reset_index(drop=True, inplace=True)\n",
    "gap_features = gap.drop('target', axis=1)\n",
    "gap_target = gap['target']\n",
    "pred = gap[target_zone]\n",
    "\n",
    "#run loop to calculate the prediction weeks\n",
    "for x in range(0, len(gap_target)):\n",
    "    #row is the current hour in the loop starting with 2008-07-01 00:00:00\n",
    "    row = gap_features[x:x+1]\n",
    "    #predict the value of hour X\n",
    "    pred[x]=model.predict(row)\n",
    "    #replace the value of target_zone at hour X+1 in the feature dataset\n",
    "    gap_features[target_zone][x+1]=pred[x]\n",
    "\n",
    "last_value=pred[18]\n",
    "print(last_value)"
   ]
  },
  {
   "cell_type": "code",
   "execution_count": 5,
   "metadata": {},
   "outputs": [],
   "source": [
    "#Load prediction weeks for zone 4\n",
    "test = pd.read_csv(f'Dataset/Zones/{target_zone}test.csv')\n",
    "test = test.drop(['datetime'], axis=1)\n",
    "#remove target from feature list\n",
    "features = test.drop('target', axis=1)\n",
    "#add the last prediction from the missing 19 value as the first target_column value\n",
    "features[target_zone][0]=last_value\n",
    "target = test['target']\n",
    "pred = test[target_zone]"
   ]
  },
  {
   "cell_type": "code",
   "execution_count": 6,
   "metadata": {},
   "outputs": [],
   "source": [
    "#run loop to calculate the prediction weeks\n",
    "for x in range(0, len(target)):\n",
    "    #row is the current hour in the loop starting with 2008-07-01 00:00:00\n",
    "    row = features[x:x+1]\n",
    "    #predict the value of hour X\n",
    "    pred[x]=model.predict(row)\n",
    "    #replace the value of 'zone_4' at hour X+1 in the feature dataset\n",
    "    features[target_zone][x+1]=pred[x]"
   ]
  },
  {
   "cell_type": "code",
   "execution_count": 7,
   "metadata": {},
   "outputs": [
    {
     "output_type": "stream",
     "name": "stdout",
     "text": [
      "0      170220.986084\n1      153158.818115\n2      141399.466309\n3      136657.480225\n4      137792.804443\n           ...      \n162    312621.246582\n163    304671.219238\n164    289303.393066\n165    274403.770996\n166    236626.010254\nName: zone_18, Length: 167, dtype: float64\n"
     ]
    }
   ],
   "source": [
    "print(features[target_zone])"
   ]
  },
  {
   "cell_type": "code",
   "execution_count": 8,
   "metadata": {},
   "outputs": [
    {
     "output_type": "stream",
     "name": "stdout",
     "text": [
      "0      153158.818115\n1      141399.466309\n2      136657.480225\n3      137792.804443\n4      150556.580566\n           ...      \n162    304671.219238\n163    289303.393066\n164    274403.770996\n165    236626.010254\n166    203989.298584\nName: zone_18, Length: 167, dtype: float64\n"
     ]
    }
   ],
   "source": [
    "print(pred)"
   ]
  },
  {
   "cell_type": "code",
   "execution_count": 9,
   "metadata": {},
   "outputs": [
    {
     "output_type": "stream",
     "name": "stdout",
     "text": [
      "Metrics for Auto-Sklearn zone_18_14400\nMin Load: 129107.0\nMax Load: 352808.0\nAverage Load: 225798.89221556886\nR2: 0.9582809919838811\nMAE: 10408.484576744948\nMAPE: 0.0471633122265\nMax Error: 36490.72607421875\n"
     ]
    }
   ],
   "source": [
    "from sklearn.metrics import mean_absolute_error\n",
    "from sklearn.metrics import mean_absolute_percentage_error\n",
    "from sklearn.metrics import mean_squared_error\n",
    "from sklearn.metrics import max_error\n",
    "\n",
    "print(f'Metrics for Auto-Sklearn {target_zone}_{runtime}')\n",
    "print('Min Load:', target.min())\n",
    "print('Max Load:', target.max())\n",
    "print('Average Load:', target.mean())\n",
    "print('R2:', r2_score(target, pred))\n",
    "print('MAE:', mean_absolute_error(target, pred))\n",
    "print('MAPE:', mean_absolute_percentage_error(target, pred))\n",
    "print('Max Error:', max_error(target, pred))"
   ]
  },
  {
   "cell_type": "code",
   "execution_count": null,
   "metadata": {},
   "outputs": [],
   "source": []
  }
 ]
}